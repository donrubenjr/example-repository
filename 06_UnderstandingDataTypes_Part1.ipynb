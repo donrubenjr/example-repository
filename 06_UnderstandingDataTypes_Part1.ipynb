{
  "nbformat": 4,
  "nbformat_minor": 0,
  "metadata": {
    "colab": {
      "provenance": [],
      "include_colab_link": true
    },
    "kernelspec": {
      "name": "python3",
      "display_name": "Python 3"
    },
    "language_info": {
      "name": "python"
    }
  },
  "cells": [
    {
      "cell_type": "markdown",
      "metadata": {
        "id": "view-in-github",
        "colab_type": "text"
      },
      "source": [
        "<a href=\"https://colab.research.google.com/github/donrubenjr/example-repository/blob/main/06_UnderstandingDataTypes_Part1.ipynb\" target=\"_parent\"><img src=\"https://colab.research.google.com/assets/colab-badge.svg\" alt=\"Open In Colab\"/></a>"
      ]
    },
    {
      "cell_type": "markdown",
      "source": [
        "# Introduction to Python\n",
        "\n",
        "**Outline**:\n",
        "- How to use Google Colaboratory (aka Google Colab) to run Jupyter Notebooks\n",
        "- Basics of Python Programming\n",
        "- Understanding Python Data Types\n",
        "\n",
        "**The following references were used to build this notebook's content:**\n",
        "- *Lutz, M. (2013). Learning python: Powerful object-oriented programming. \" O'Reilly Media, Inc.\".*\n",
        "- *Zelle, J. M. (2004). Python programming: an introduction to computer science. Franklin, Beedle & Associates, Inc..*"
      ],
      "metadata": {
        "id": "3OpepD22jRWe"
      }
    },
    {
      "cell_type": "markdown",
      "source": [
        "---"
      ],
      "metadata": {
        "id": "FKLzh3KulrGS"
      }
    },
    {
      "cell_type": "markdown",
      "source": [],
      "metadata": {
        "id": "JKj8G0U_Ik0M"
      }
    },
    {
      "cell_type": "markdown",
      "source": [
        "# Understanding Python Data Types"
      ],
      "metadata": {
        "id": "8TzaI1mpnoC0"
      }
    },
    {
      "cell_type": "markdown",
      "source": [
        "#### Basic types\n",
        "\n",
        "| Data Type   | Description                              |\n",
        "|--------|------------------------------------------|\n",
        "| None   | Python null value                        |\n",
        "| str    | Character strings                        |\n",
        "| bool   | True or False                            |\n",
        "| int    | Signed integers                          |\n",
        "| float  | Double precision floating point numbers  |\n"
      ],
      "metadata": {
        "id": "zWObjyTkepBW"
      }
    },
    {
      "cell_type": "markdown",
      "source": [
        "## String"
      ],
      "metadata": {
        "id": "4UT48dlAxdMo"
      }
    },
    {
      "cell_type": "code",
      "source": [
        "\"This is a string.\""
      ],
      "metadata": {
        "id": "0uErwXjnyU2N",
        "colab": {
          "base_uri": "https://localhost:8080/",
          "height": 35
        },
        "outputId": "207e804f-1f75-424b-8f4d-ae4a88d1d0dc"
      },
      "execution_count": null,
      "outputs": [
        {
          "output_type": "execute_result",
          "data": {
            "text/plain": [
              "'This is a string.'"
            ],
            "application/vnd.google.colaboratory.intrinsic+json": {
              "type": "string"
            }
          },
          "metadata": {},
          "execution_count": 1
        }
      ]
    },
    {
      "cell_type": "code",
      "source": [
        "\"12345\""
      ],
      "metadata": {
        "colab": {
          "base_uri": "https://localhost:8080/",
          "height": 35
        },
        "id": "qio9pv3_ewLc",
        "outputId": "8acc7716-67c6-42d8-d90b-bb406aecb395"
      },
      "execution_count": null,
      "outputs": [
        {
          "output_type": "execute_result",
          "data": {
            "text/plain": [
              "'12345'"
            ],
            "application/vnd.google.colaboratory.intrinsic+json": {
              "type": "string"
            }
          },
          "metadata": {},
          "execution_count": 2
        }
      ]
    },
    {
      "cell_type": "markdown",
      "source": [
        "Inspect data types using the function `type()`"
      ],
      "metadata": {
        "id": "8VnUXZ1re-Fy"
      }
    },
    {
      "cell_type": "code",
      "source": [
        "type('This is a string')"
      ],
      "metadata": {
        "colab": {
          "base_uri": "https://localhost:8080/"
        },
        "id": "nO6gHXZuevyk",
        "outputId": "9e57a4dc-6e4e-4d69-d728-1eafdbe076da"
      },
      "execution_count": null,
      "outputs": [
        {
          "output_type": "execute_result",
          "data": {
            "text/plain": [
              "str"
            ]
          },
          "metadata": {},
          "execution_count": 5
        }
      ]
    },
    {
      "cell_type": "code",
      "source": [
        "type(\"12345\")"
      ],
      "metadata": {
        "colab": {
          "base_uri": "https://localhost:8080/"
        },
        "id": "eSPbf7FmfGiH",
        "outputId": "9b70d4c3-87ba-4fa6-f0fc-6c6ad66498be"
      },
      "execution_count": null,
      "outputs": [
        {
          "output_type": "execute_result",
          "data": {
            "text/plain": [
              "str"
            ]
          },
          "metadata": {},
          "execution_count": 8
        }
      ]
    },
    {
      "cell_type": "markdown",
      "source": [
        "## Integer and Float"
      ],
      "metadata": {
        "id": "svbxjAzRxlx8"
      }
    },
    {
      "cell_type": "code",
      "source": [
        "type(2)"
      ],
      "metadata": {
        "id": "yUSdegp5xlmo",
        "colab": {
          "base_uri": "https://localhost:8080/"
        },
        "outputId": "2d983292-5e67-41db-a9c0-45a73fa75f5e"
      },
      "execution_count": null,
      "outputs": [
        {
          "output_type": "execute_result",
          "data": {
            "text/plain": [
              "int"
            ]
          },
          "metadata": {},
          "execution_count": 9
        }
      ]
    },
    {
      "cell_type": "code",
      "source": [
        "type(2.)"
      ],
      "metadata": {
        "colab": {
          "base_uri": "https://localhost:8080/"
        },
        "id": "P7MgrwcDfMYx",
        "outputId": "623dcf94-248a-4bf7-861c-b7bdf7e01c8e"
      },
      "execution_count": null,
      "outputs": [
        {
          "output_type": "execute_result",
          "data": {
            "text/plain": [
              "float"
            ]
          },
          "metadata": {},
          "execution_count": 10
        }
      ]
    },
    {
      "cell_type": "code",
      "source": [
        "type(2.0)"
      ],
      "metadata": {
        "colab": {
          "base_uri": "https://localhost:8080/"
        },
        "id": "t3_K8ul-fMHe",
        "outputId": "7021b5aa-0139-42ec-f127-f23e23d1ae87"
      },
      "execution_count": null,
      "outputs": [
        {
          "output_type": "execute_result",
          "data": {
            "text/plain": [
              "float"
            ]
          },
          "metadata": {},
          "execution_count": 11
        }
      ]
    },
    {
      "cell_type": "markdown",
      "source": [
        "As you can observe, adding a decimal point to an integer can turn it to a `float` value"
      ],
      "metadata": {
        "id": "q-zifuvHfVNe"
      }
    },
    {
      "cell_type": "markdown",
      "source": [
        "## Boolean"
      ],
      "metadata": {
        "id": "OgQQkYyXxqHA"
      }
    },
    {
      "cell_type": "code",
      "source": [
        "type(True)"
      ],
      "metadata": {
        "id": "8kAPNUCnyA8Q",
        "colab": {
          "base_uri": "https://localhost:8080/"
        },
        "outputId": "2c36f1cc-7163-495d-c07f-a0e5b7f879d9"
      },
      "execution_count": null,
      "outputs": [
        {
          "output_type": "execute_result",
          "data": {
            "text/plain": [
              "bool"
            ]
          },
          "metadata": {},
          "execution_count": 13
        }
      ]
    },
    {
      "cell_type": "code",
      "source": [
        "type(False)"
      ],
      "metadata": {
        "colab": {
          "base_uri": "https://localhost:8080/"
        },
        "id": "BZv7noU1fwcW",
        "outputId": "4d2220cd-efbf-4abb-e07e-ef1de808ad18"
      },
      "execution_count": null,
      "outputs": [
        {
          "output_type": "execute_result",
          "data": {
            "text/plain": [
              "bool"
            ]
          },
          "metadata": {},
          "execution_count": 14
        }
      ]
    },
    {
      "cell_type": "markdown",
      "source": [
        "## List"
      ],
      "metadata": {
        "id": "vRMbFzl-yJxl"
      }
    },
    {
      "cell_type": "markdown",
      "source": [
        "A list may contain different values of different data types.\n"
      ],
      "metadata": {
        "id": "o4AFuQmb58FX"
      }
    },
    {
      "cell_type": "code",
      "source": [
        "list1 = [1, 2.5, 'dog', [1, 2], 'cat', 100]\n",
        "list1"
      ],
      "metadata": {
        "id": "ILveNaIwyOOk",
        "colab": {
          "base_uri": "https://localhost:8080/"
        },
        "outputId": "d1d373a9-e3d0-4f0d-fb47-5729ec483c1a"
      },
      "execution_count": null,
      "outputs": [
        {
          "output_type": "execute_result",
          "data": {
            "text/plain": [
              "[1, 2.5, 'dog', [1, 2], 'cat', 100]"
            ]
          },
          "metadata": {},
          "execution_count": 15
        }
      ]
    },
    {
      "cell_type": "code",
      "source": [
        "len(list1)"
      ],
      "metadata": {
        "colab": {
          "base_uri": "https://localhost:8080/"
        },
        "id": "by96QxVKEBIt",
        "outputId": "393a45b3-2b58-4830-e0fe-e8ece284565c"
      },
      "execution_count": null,
      "outputs": [
        {
          "output_type": "execute_result",
          "data": {
            "text/plain": [
              "6"
            ]
          },
          "metadata": {},
          "execution_count": 16
        }
      ]
    },
    {
      "cell_type": "markdown",
      "source": [
        "An element in a list can be accessed using the **index** of its position in the list."
      ],
      "metadata": {
        "id": "DxM6Ev746EP-"
      }
    },
    {
      "cell_type": "code",
      "source": [
        "list1[0]"
      ],
      "metadata": {
        "colab": {
          "base_uri": "https://localhost:8080/"
        },
        "id": "eZZjxjNw8blG",
        "outputId": "5219bbe4-4c5c-461a-c2e5-e2b5cf03db26"
      },
      "execution_count": null,
      "outputs": [
        {
          "output_type": "execute_result",
          "data": {
            "text/plain": [
              "1"
            ]
          },
          "metadata": {},
          "execution_count": 17
        }
      ]
    },
    {
      "cell_type": "code",
      "source": [
        "list1[1]"
      ],
      "metadata": {
        "colab": {
          "base_uri": "https://localhost:8080/"
        },
        "id": "CRYhRHeq8biQ",
        "outputId": "b795b315-381a-4d37-9d2c-9d2aaaa31654"
      },
      "execution_count": null,
      "outputs": [
        {
          "output_type": "execute_result",
          "data": {
            "text/plain": [
              "2.5"
            ]
          },
          "metadata": {},
          "execution_count": 18
        }
      ]
    },
    {
      "cell_type": "code",
      "source": [
        "list1[4]"
      ],
      "metadata": {
        "colab": {
          "base_uri": "https://localhost:8080/",
          "height": 35
        },
        "id": "MiuSKapp8bfN",
        "outputId": "f93688b5-6018-414a-f544-bf1569908490"
      },
      "execution_count": null,
      "outputs": [
        {
          "output_type": "execute_result",
          "data": {
            "text/plain": [
              "'cat'"
            ],
            "application/vnd.google.colaboratory.intrinsic+json": {
              "type": "string"
            }
          },
          "metadata": {},
          "execution_count": 19
        }
      ]
    },
    {
      "cell_type": "markdown",
      "source": [
        "A smaller list containing some elements of a list can be accessed through **list slicing**."
      ],
      "metadata": {
        "id": "r80KOSZh6fOZ"
      }
    },
    {
      "cell_type": "code",
      "source": [
        "list1"
      ],
      "metadata": {
        "colab": {
          "base_uri": "https://localhost:8080/"
        },
        "id": "RCoQ3GrPEb4d",
        "outputId": "cd6cb80c-ac7b-4559-b7c3-b579b9f3dd58"
      },
      "execution_count": null,
      "outputs": [
        {
          "output_type": "execute_result",
          "data": {
            "text/plain": [
              "[1, 2.5, 'dog', [1, 2], 'cat', 100]"
            ]
          },
          "metadata": {},
          "execution_count": 5
        }
      ]
    },
    {
      "cell_type": "code",
      "source": [
        "list1[1:]"
      ],
      "metadata": {
        "colab": {
          "base_uri": "https://localhost:8080/"
        },
        "id": "FnlfxZFx6ybb",
        "outputId": "8ec66771-c64d-46c2-9dc3-65a760dfb2c5"
      },
      "execution_count": null,
      "outputs": [
        {
          "output_type": "execute_result",
          "data": {
            "text/plain": [
              "[2.5, 'dog', [1, 2], 'cat', 100]"
            ]
          },
          "metadata": {},
          "execution_count": 17
        }
      ]
    },
    {
      "cell_type": "code",
      "source": [
        "list1[0:2]"
      ],
      "metadata": {
        "colab": {
          "base_uri": "https://localhost:8080/"
        },
        "id": "1b2MDhfO9P_b",
        "outputId": "31b20328-1617-4a9f-ad66-369cda63d48f"
      },
      "execution_count": null,
      "outputs": [
        {
          "output_type": "execute_result",
          "data": {
            "text/plain": [
              "[1, 2.5]"
            ]
          },
          "metadata": {},
          "execution_count": 18
        }
      ]
    },
    {
      "cell_type": "code",
      "source": [
        "list1[0:3]"
      ],
      "metadata": {
        "colab": {
          "base_uri": "https://localhost:8080/"
        },
        "id": "3dkTbIW59PJn",
        "outputId": "e1112d9b-30de-4dac-e81b-bb697738613e"
      },
      "execution_count": null,
      "outputs": [
        {
          "output_type": "execute_result",
          "data": {
            "text/plain": [
              "[1, 2.5, 'dog']"
            ]
          },
          "metadata": {},
          "execution_count": 19
        }
      ]
    },
    {
      "cell_type": "code",
      "source": [
        "list1[0:4:2]"
      ],
      "metadata": {
        "colab": {
          "base_uri": "https://localhost:8080/"
        },
        "id": "rbt5OmJM9PGN",
        "outputId": "522a5c77-e29b-46f2-ea78-4315d5a13d88"
      },
      "execution_count": null,
      "outputs": [
        {
          "output_type": "execute_result",
          "data": {
            "text/plain": [
              "[1, 'dog']"
            ]
          },
          "metadata": {},
          "execution_count": 20
        }
      ]
    },
    {
      "cell_type": "markdown",
      "source": [
        "### Commonly used list operations"
      ],
      "metadata": {
        "id": "dkFsws0O-Y3y"
      }
    },
    {
      "cell_type": "markdown",
      "metadata": {
        "ExecuteTime": {
          "end_time": "2021-08-06T08:25:18.518296Z",
          "start_time": "2021-08-06T08:25:18.501557Z"
        },
        "id": "vur8Vyu_C4Lx"
      },
      "source": [
        "#### `len()` - to find the length of a list"
      ]
    },
    {
      "cell_type": "code",
      "metadata": {
        "ExecuteTime": {
          "end_time": "2021-08-06T08:31:35.865043Z",
          "start_time": "2021-08-06T08:31:35.854109Z"
        },
        "id": "9KwTm9wMC4Lx",
        "outputId": "d3952878-dfe5-464f-da95-3e986ba5c515"
      },
      "source": [
        "list3 = [2, 6, 4, 7, 8]\n",
        "len(list3)"
      ],
      "execution_count": null,
      "outputs": [
        {
          "output_type": "execute_result",
          "data": {
            "text/plain": [
              "5"
            ]
          },
          "metadata": {
            "tags": []
          },
          "execution_count": 24
        }
      ]
    },
    {
      "cell_type": "markdown",
      "metadata": {
        "id": "3BhjrnqeC4Lx"
      },
      "source": [
        "#### `append()` - to append an element at the end of the list"
      ]
    },
    {
      "cell_type": "code",
      "metadata": {
        "ExecuteTime": {
          "end_time": "2021-08-06T08:32:32.470489Z",
          "start_time": "2021-08-06T08:32:32.458530Z"
        },
        "id": "Xg1GM4FsC4Lx",
        "outputId": "20da7c33-54d4-4df4-82f5-deffb30fd8a8"
      },
      "source": [
        "list4 = [1, 2, 4, 8]\n",
        "\n",
        "list4.append(9)\n",
        "list4"
      ],
      "execution_count": null,
      "outputs": [
        {
          "output_type": "execute_result",
          "data": {
            "text/plain": [
              "[1, 2, 4, 8, 9]"
            ]
          },
          "metadata": {
            "tags": []
          },
          "execution_count": 27
        }
      ]
    },
    {
      "cell_type": "code",
      "metadata": {
        "ExecuteTime": {
          "end_time": "2021-08-06T08:32:48.253300Z",
          "start_time": "2021-08-06T08:32:48.240310Z"
        },
        "id": "6lFRx299C4Lx",
        "outputId": "537ff1ec-27e5-4779-d0a6-2281e89b3f9d"
      },
      "source": [
        "list4 = [1, 2, 4, 8]\n",
        "\n",
        "list4.append([9])\n",
        "list4"
      ],
      "execution_count": null,
      "outputs": [
        {
          "output_type": "execute_result",
          "data": {
            "text/plain": [
              "[1, 2, 4, 8, [9]]"
            ]
          },
          "metadata": {
            "tags": []
          },
          "execution_count": 28
        }
      ]
    },
    {
      "cell_type": "markdown",
      "metadata": {
        "id": "O0RtHjuDC4Lx"
      },
      "source": [
        "**QUESTION: What's the difference between the two implementations of `append()`?**"
      ]
    },
    {
      "cell_type": "markdown",
      "metadata": {
        "id": "cnaibMlNC4Lx"
      },
      "source": [
        "#### `extend()` - to extend a list by a given list"
      ]
    },
    {
      "cell_type": "code",
      "metadata": {
        "ExecuteTime": {
          "end_time": "2021-08-06T08:34:41.699118Z",
          "start_time": "2021-08-06T08:34:41.690179Z"
        },
        "id": "11amK6hQC4Lx",
        "outputId": "cb35f971-4a8e-49b5-cc1f-aba118385adf",
        "colab": {
          "base_uri": "https://localhost:8080/",
          "height": 218
        }
      },
      "source": [
        "list5 = [1, 2, 4, 5]\n",
        "\n",
        "list5.extend(8) # This will result to an error\n",
        "list5"
      ],
      "execution_count": null,
      "outputs": [
        {
          "output_type": "error",
          "ename": "TypeError",
          "evalue": "ignored",
          "traceback": [
            "\u001b[0;31m---------------------------------------------------------------------------\u001b[0m",
            "\u001b[0;31mTypeError\u001b[0m                                 Traceback (most recent call last)",
            "\u001b[0;32m<ipython-input-20-5fbb9761ef6e>\u001b[0m in \u001b[0;36m<module>\u001b[0;34m\u001b[0m\n\u001b[1;32m      1\u001b[0m \u001b[0mlist5\u001b[0m \u001b[0;34m=\u001b[0m \u001b[0;34m[\u001b[0m\u001b[0;36m1\u001b[0m\u001b[0;34m,\u001b[0m \u001b[0;36m2\u001b[0m\u001b[0;34m,\u001b[0m \u001b[0;36m4\u001b[0m\u001b[0;34m,\u001b[0m \u001b[0;36m5\u001b[0m\u001b[0;34m]\u001b[0m\u001b[0;34m\u001b[0m\u001b[0;34m\u001b[0m\u001b[0m\n\u001b[1;32m      2\u001b[0m \u001b[0;34m\u001b[0m\u001b[0m\n\u001b[0;32m----> 3\u001b[0;31m \u001b[0mlist5\u001b[0m\u001b[0;34m.\u001b[0m\u001b[0mextend\u001b[0m\u001b[0;34m(\u001b[0m\u001b[0;36m8\u001b[0m\u001b[0;34m)\u001b[0m \u001b[0;31m# This will result to an error\u001b[0m\u001b[0;34m\u001b[0m\u001b[0;34m\u001b[0m\u001b[0m\n\u001b[0m\u001b[1;32m      4\u001b[0m \u001b[0mlist5\u001b[0m\u001b[0;34m\u001b[0m\u001b[0;34m\u001b[0m\u001b[0m\n",
            "\u001b[0;31mTypeError\u001b[0m: 'int' object is not iterable"
          ]
        }
      ]
    },
    {
      "cell_type": "markdown",
      "metadata": {
        "id": "oJ9dHQp1C4Ly"
      },
      "source": [
        "*See implementations of `extend()` below and guess why there is an error in the first implementation*"
      ]
    },
    {
      "cell_type": "code",
      "metadata": {
        "ExecuteTime": {
          "end_time": "2021-08-06T08:35:14.490191Z",
          "start_time": "2021-08-06T08:35:14.472239Z"
        },
        "id": "u7inp8amC4Ly",
        "outputId": "fc08f724-b3ec-46be-dd21-237cc6b184ee"
      },
      "source": [
        "list5 = [1, 2, 4, 5]\n",
        "\n",
        "list5.extend([8])\n",
        "list5"
      ],
      "execution_count": null,
      "outputs": [
        {
          "output_type": "execute_result",
          "data": {
            "text/plain": [
              "[1, 2, 4, 5, 8]"
            ]
          },
          "metadata": {
            "tags": []
          },
          "execution_count": 30
        }
      ]
    },
    {
      "cell_type": "code",
      "metadata": {
        "ExecuteTime": {
          "end_time": "2021-08-06T08:35:16.838228Z",
          "start_time": "2021-08-06T08:35:16.824242Z"
        },
        "id": "L86gDzbpC4Ly",
        "outputId": "a9a0a013-88e1-447d-ff04-3b3fd78619ea"
      },
      "source": [
        "list5 = [1, 2, 4, 5]\n",
        "\n",
        "list5.extend([8, 9])\n",
        "list5"
      ],
      "execution_count": null,
      "outputs": [
        {
          "output_type": "execute_result",
          "data": {
            "text/plain": [
              "[1, 2, 4, 5, 8, 9]"
            ]
          },
          "metadata": {
            "tags": []
          },
          "execution_count": 31
        }
      ]
    },
    {
      "cell_type": "code",
      "metadata": {
        "ExecuteTime": {
          "end_time": "2021-08-06T08:35:30.240517Z",
          "start_time": "2021-08-06T08:35:30.227553Z"
        },
        "id": "pGuxleyKC4Ly",
        "outputId": "49b08d56-1e1f-4007-9699-30f33e552828"
      },
      "source": [
        "list5 = [1, 2, 4, 5]\n",
        "\n",
        "list5.extend([[8, 9]])\n",
        "list5"
      ],
      "execution_count": null,
      "outputs": [
        {
          "output_type": "execute_result",
          "data": {
            "text/plain": [
              "[1, 2, 4, 5, [8, 9]]"
            ]
          },
          "metadata": {
            "tags": []
          },
          "execution_count": 32
        }
      ]
    },
    {
      "cell_type": "markdown",
      "metadata": {
        "id": "1jdcB42oC4Ly"
      },
      "source": [
        "*What's the difference between the four implementations of `extend()`*?"
      ]
    },
    {
      "cell_type": "markdown",
      "metadata": {
        "id": "ir6z-o6FC4Ly"
      },
      "source": [
        "#### `del` - to delete an element in a list"
      ]
    },
    {
      "cell_type": "code",
      "metadata": {
        "ExecuteTime": {
          "end_time": "2021-08-06T08:37:00.508764Z",
          "start_time": "2021-08-06T08:37:00.491810Z"
        },
        "id": "6BbHGdaHC4Ly",
        "outputId": "79aa5418-fadc-4730-8a21-637ce5e75e12",
        "colab": {
          "base_uri": "https://localhost:8080/"
        }
      },
      "source": [
        "list6 = ['a', 'b', 'c', 'd']\n",
        "del list6[2]\n",
        "\n",
        "list6"
      ],
      "execution_count": null,
      "outputs": [
        {
          "output_type": "execute_result",
          "data": {
            "text/plain": [
              "['a', 'b', 'd']"
            ]
          },
          "metadata": {},
          "execution_count": 21
        }
      ]
    },
    {
      "cell_type": "markdown",
      "metadata": {
        "id": "NrxnhyWXC4Ly"
      },
      "source": [
        "#### `sorted()` - to sort elements in a list numerically or lexicographically"
      ]
    },
    {
      "cell_type": "code",
      "metadata": {
        "ExecuteTime": {
          "end_time": "2021-08-06T08:38:36.217559Z",
          "start_time": "2021-08-06T08:38:36.211575Z"
        },
        "id": "ywjtJ6kqC4Ly",
        "outputId": "ecc03e8d-2aa4-42b0-eda5-4cd4fca10272"
      },
      "source": [
        "sorted(['A', 'b', 'C', 'd', 'E']) #------> Sorted based on ASCII"
      ],
      "execution_count": null,
      "outputs": [
        {
          "output_type": "execute_result",
          "data": {
            "text/plain": [
              "['A', 'C', 'E', 'b', 'd']"
            ]
          },
          "metadata": {
            "tags": []
          },
          "execution_count": 34
        }
      ]
    },
    {
      "cell_type": "code",
      "metadata": {
        "ExecuteTime": {
          "end_time": "2021-08-06T08:39:07.654071Z",
          "start_time": "2021-08-06T08:39:07.649055Z"
        },
        "id": "Z5pgbGZMC4Lz",
        "outputId": "85053b7a-cfd7-471b-b8eb-032056344900"
      },
      "source": [
        "sorted(['dog', 'cat', 'mouse', 'elephant', 'dragon']) #------> Sorted based on ASCII"
      ],
      "execution_count": null,
      "outputs": [
        {
          "output_type": "execute_result",
          "data": {
            "text/plain": [
              "['cat', 'dog', 'dragon', 'elephant', 'mouse']"
            ]
          },
          "metadata": {
            "tags": []
          },
          "execution_count": 35
        }
      ]
    },
    {
      "cell_type": "code",
      "metadata": {
        "ExecuteTime": {
          "end_time": "2021-08-06T08:39:33.557518Z",
          "start_time": "2021-08-06T08:39:33.542580Z"
        },
        "id": "51cD7dJ4C4Lz",
        "outputId": "f93b8108-2e24-4ebd-aa2d-61e37f6dd892",
        "colab": {
          "base_uri": "https://localhost:8080/"
        }
      },
      "source": [
        "sorted([254, 250, 250, 0.2, 0.5, 88], reverse=True)"
      ],
      "execution_count": null,
      "outputs": [
        {
          "output_type": "execute_result",
          "data": {
            "text/plain": [
              "[254, 250, 250, 88, 0.5, 0.2]"
            ]
          },
          "metadata": {},
          "execution_count": 24
        }
      ]
    },
    {
      "cell_type": "markdown",
      "source": [
        "**TRY THIS!**\n",
        "> Consider the list `sample_list = [4, 5, 6, 1, 2, 3, 9, 10, 7, 8]`.\n",
        "- Sort `sample_list` from lowest to highest, and assign the sorted list to a variable `sorted_list`.\n",
        "- Print the last three elements of `sorted_list` as a sliced list.\n",
        "- Print elements in `sample_list` with even indices."
      ],
      "metadata": {
        "id": "3aUASk5yK-z0"
      }
    },
    {
      "cell_type": "code",
      "source": [
        "# Write code here"
      ],
      "metadata": {
        "id": "5Ph351N8MmkH"
      },
      "execution_count": null,
      "outputs": []
    },
    {
      "cell_type": "markdown",
      "source": [
        "---"
      ],
      "metadata": {
        "id": "2sloWS-CGEmT"
      }
    },
    {
      "cell_type": "markdown",
      "source": [
        "END OF FILE"
      ],
      "metadata": {
        "id": "gI-6zbJ0GHlj"
      }
    }
  ]
}